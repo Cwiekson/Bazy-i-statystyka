{
 "cells": [
  {
   "cell_type": "code",
   "execution_count": 1,
   "metadata": {
    "collapsed": true,
    "pycharm": {
     "name": "#%%\n"
    }
   },
   "outputs": [
    {
     "name": "stdout",
     "output_type": "stream",
     "text": [
      "t-stat:  1.3445552082396837\n",
      "p-value:  0.18029948732438103\n"
     ]
    }
   ],
   "source": [
    "#zad1 \n",
    "import numpy as np\n",
    "\n",
    "sample = np.random.normal(loc=2, scale=30, size=200)\n",
    "\n",
    "from scipy.stats import ttest_1samp\n",
    "\n",
    "t_stat, p_value = ttest_1samp(sample, 2.5)\n",
    "print('t-stat: ', t_stat)\n",
    "print('p-value: ', p_value)"
   ]
  },
  {
   "cell_type": "code",
   "execution_count": 3,
   "outputs": [
    {
     "name": "stdout",
     "output_type": "stream",
     "text": [
      "   mies   rok   pepsi  fanta   żywiec  okocim  regionalne    cola   lech\n",
      "0     1  2001  108447   43302  186385   54301       45065  227013  56306\n",
      "1     2  2001  105439   46711  168782   68131       43933  221115  67212\n",
      "2     3  2001  111675   36029  172186   63104       46663  222812  67398\n",
      "3     4  2001  113232   33659  172445   50871       45195  238631  57100\n",
      "4     5  2001  110274   40853  174526   67924       47926  222963  65001\n",
      "Średnie spożycie Lecha:  61091.348958333336\n",
      "Średnie spożycie Coli:  226389.46875\n",
      "Średnie spożycie piwa regionalnego:  48668.036458333336\n",
      "t-stat dla piwa Lech:  1.646503944538866\n",
      "p-value dla piwa Lech:  0.10130442686854728\n",
      "t-stat dla Coli:  6.391908975571081\n",
      "p-value dla Coli:  1.2249714535216756e-09\n",
      "t-stat dla piwa regionalnego:  17.440927488514944\n",
      "p-value dla piwa regionalnego:  2.2572528828603765e-41\n"
     ]
    }
   ],
   "source": [
    "#zad2\n",
    "\n",
    "import pandas as pd\n",
    "\n",
    "data = pd.read_csv('./data/napoje.csv', sep=';')\n",
    "print(data.head())\n",
    "\n",
    "lech_mean = data['lech'].mean()\n",
    "cola_mean = data['cola'].mean()\n",
    "regionalne_mean = data['regionalne'].mean()\n",
    "\n",
    "print('Średnie spożycie Lecha: ', lech_mean)\n",
    "print('Średnie spożycie Coli: ', cola_mean)\n",
    "print('Średnie spożycie piwa regionalnego: ', regionalne_mean)\n",
    "\n",
    "t_lech, p_lech = ttest_1samp(data['lech'], 60500)\n",
    "t_cola, p_cola = ttest_1samp(data['cola'], 222000)\n",
    "t_regionalne, p_regionalne = ttest_1samp(data['regionalne'], 43500)\n",
    "\n",
    "print('t-stat dla piwa Lech: ', t_lech)\n",
    "print('p-value dla piwa Lech: ', p_lech)\n",
    "\n",
    "print('t-stat dla Coli: ', t_cola)\n",
    "print('p-value dla Coli: ', p_cola)\n",
    "\n",
    "print('t-stat dla piwa regionalnego: ', t_regionalne)\n",
    "print('p-value dla piwa regionalnego: ', p_regionalne)"
   ],
   "metadata": {
    "collapsed": false,
    "pycharm": {
     "name": "#%%\n"
    }
   }
  },
  {
   "cell_type": "code",
   "execution_count": 4,
   "outputs": [
    {
     "name": "stdout",
     "output_type": "stream",
     "text": [
      "mies - stat: 0.9405028820037842, p-value: 4.075907327205641e-07\n",
      "rok - stat: 0.9462482333183289, p-value: 1.3102297771183657e-06\n",
      "pepsi - stat: 0.9912384748458862, p-value: 0.2968809902667999\n",
      "fanta  - stat: 0.9894830584526062, p-value: 0.17036965489387512\n",
      "żywiec - stat: 0.9913601875305176, p-value: 0.3080885708332062\n",
      "okocim - stat: 0.9875098466873169, p-value: 0.08890535682439804\n",
      "regionalne - stat: 0.936504602432251, p-value: 1.8769230791804148e-07\n",
      "cola - stat: 0.993564248085022, p-value: 0.5694407224655151\n",
      "lech - stat: 0.9936927556991577, p-value: 0.5875554084777832\n"
     ]
    }
   ],
   "source": [
    "#zad 3\n",
    "from scipy.stats import shapiro\n",
    "\n",
    "for column in data.columns:\n",
    "    stat, p = shapiro(data[column])\n",
    "    print(f'{column} - stat: {stat}, p-value: {p}')"
   ],
   "metadata": {
    "collapsed": false,
    "pycharm": {
     "name": "#%%\n"
    }
   }
  },
  {
   "cell_type": "code",
   "execution_count": 6,
   "outputs": [
    {
     "name": "stdout",
     "output_type": "stream",
     "text": [
      "okocim - lech: stat=-0.8323919685480173, p=0.4057078093583594\n",
      "fanta - regionalne: stat=-11.013919429372727, p=1.097001288015355e-24\n",
      "cola - pepsi: stat=145.61815604546564, p=0.0\n"
     ]
    }
   ],
   "source": [
    "#zad4\n",
    "from scipy.stats import ttest_ind\n",
    "\n",
    "stat, p = ttest_ind(data['okocim'], data['lech'])\n",
    "print(f'okocim - lech: stat={stat}, p={p}')\n",
    "\n",
    "stat, p = ttest_ind(data['fanta '], data['regionalne'])\n",
    "print(f'fanta - regionalne: stat={stat}, p={p}')\n",
    "\n",
    "stat, p = ttest_ind(data['cola'], data['pepsi'])\n",
    "print(f'cola - pepsi: stat={stat}, p={p}')"
   ],
   "metadata": {
    "collapsed": false,
    "pycharm": {
     "name": "#%%\n"
    }
   }
  },
  {
   "cell_type": "code",
   "execution_count": 7,
   "outputs": [
    {
     "name": "stdout",
     "output_type": "stream",
     "text": [
      "okocim - lech: stat=1.191182232831977, p=0.2757791126546958\n",
      "żywiec - fanta: stat=1.4760992846958803, p=0.22513624629834209\n",
      "regionalne - cola: stat=83.85984593010029, p=3.275749775904902e-18\n"
     ]
    }
   ],
   "source": [
    "#zad5\n",
    "from scipy.stats import levene\n",
    "\n",
    "stat, p = levene(data['okocim'], data['lech'])\n",
    "print(f'okocim - lech: stat={stat}, p={p}')\n",
    "\n",
    "stat, p = levene(data['żywiec'], data['fanta '])\n",
    "print(f'żywiec - fanta: stat={stat}, p={p}')\n",
    "\n",
    "stat, p = levene(data['regionalne'], data['cola'])\n",
    "print(f'regionalne - cola: stat={stat}, p={p}')"
   ],
   "metadata": {
    "collapsed": false,
    "pycharm": {
     "name": "#%%\n"
    }
   }
  },
  {
   "cell_type": "code",
   "execution_count": 8,
   "outputs": [
    {
     "name": "stdout",
     "output_type": "stream",
     "text": [
      "2001 - 2015: stat=-3.5977780582718273, p=0.0016000242362201897\n"
     ]
    }
   ],
   "source": [
    "#zad6\n",
    "\n",
    "from scipy.stats import ttest_ind\n",
    "\n",
    "data_2001 = data[data['rok'] == 2001]['regionalne']\n",
    "data_2015 = data[data['rok'] == 2015]['regionalne']\n",
    "\n",
    "stat, p = ttest_ind(data_2001, data_2015)\n",
    "print(f'2001 - 2015: stat={stat}, p={p}')"
   ],
   "metadata": {
    "collapsed": false,
    "pycharm": {
     "name": "#%%\n"
    }
   }
  },
  {
   "cell_type": "code",
   "execution_count": 10,
   "outputs": [
    {
     "name": "stdout",
     "output_type": "stream",
     "text": [
      "cola - stat: 0.10798149036207133 p-value: 0.9152455291840831\n",
      "fanta - stat: 0.3598065023236486 p-value: 0.7225818324966471\n",
      "pepsi - stat: -0.21470682659185084 p-value: 0.8319783139023114\n"
     ]
    }
   ],
   "source": [
    "#zad 7\n",
    "import pandas as pd\n",
    "import scipy.stats as stats\n",
    "\n",
    "data = pd.read_csv('./data/napoje.csv', delimiter = ';')\n",
    "data2 = pd.read_csv('./data/napoje_po_reklamie.csv', delimiter = ';')\n",
    "\n",
    "cola_2016 = data[data['rok'] == 2016]['cola']\n",
    "fanta_2016 = data[data['rok'] == 2016]['fanta ']\n",
    "pepsi_2016 = data[data['rok'] == 2016]['pepsi']\n",
    "\n",
    "cola_po_reklamie = data2['cola']\n",
    "fanta_po_reklamie = data2['fanta ']\n",
    "pepsi_po_reklamie = data2['pepsi']\n",
    "\n",
    "stat, p = stats.ttest_ind(cola_2016, cola_po_reklamie, equal_var=False)\n",
    "print('cola - stat:', stat,'p-value:', p)\n",
    "stat, p = stats.ttest_ind(fanta_2016, fanta_po_reklamie, equal_var=False)\n",
    "print('fanta - stat:', stat,'p-value:', p)\n",
    "stat, p = stats.ttest_ind(pepsi_2016, pepsi_po_reklamie, equal_var=False)\n",
    "print('pepsi - stat:', stat,'p-value:', p)"
   ],
   "metadata": {
    "collapsed": false,
    "pycharm": {
     "name": "#%%\n"
    }
   }
  },
  {
   "cell_type": "code",
   "execution_count": null,
   "outputs": [],
   "source": [],
   "metadata": {
    "collapsed": false,
    "pycharm": {
     "name": "#%%\n"
    }
   }
  }
 ],
 "metadata": {
  "kernelspec": {
   "display_name": "Python 3",
   "language": "python",
   "name": "python3"
  },
  "language_info": {
   "codemirror_mode": {
    "name": "ipython",
    "version": 2
   },
   "file_extension": ".py",
   "mimetype": "text/x-python",
   "name": "python",
   "nbconvert_exporter": "python",
   "pygments_lexer": "ipython2",
   "version": "2.7.6"
  }
 },
 "nbformat": 4,
 "nbformat_minor": 0
}